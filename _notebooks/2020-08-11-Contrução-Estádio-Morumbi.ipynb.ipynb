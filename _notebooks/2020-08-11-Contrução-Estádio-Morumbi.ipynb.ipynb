{
  "nbformat": 4,
  "nbformat_minor": 0,
  "metadata": {
    "colab": {
      "name": "Atividade 1.ipynb",
      "provenance": [],
      "private_outputs": true,
      "collapsed_sections": [],
      "toc_visible": true,
      "authorship_tag": "ABX9TyNSC9X+KcaqgIeBLi9rZ5dT",
      "include_colab_link": true
    },
    "kernelspec": {
      "name": "python3",
      "display_name": "Python 3"
    }
  },
  "cells": [
    {
      "cell_type": "markdown",
      "metadata": {
        "id": "view-in-github",
        "colab_type": "text"
      },
      "source": [
        "<a href=\"https://colab.research.google.com/github/vinicius91aquino/photo-colorization/blob/master/_notebooks/2020-08-11-Contru%C3%A7%C3%A3o-Est%C3%A1dio-Morumbi.ipynb.ipynb\" target=\"_parent\"><img src=\"https://colab.research.google.com/assets/colab-badge.svg\" alt=\"Open In Colab\"/></a>"
      ]
    },
    {
      "cell_type": "markdown",
      "metadata": {
        "id": "wvB7JhbVsqoV",
        "colab_type": "text"
      },
      "source": [
        "# \"Contrução do Estádio do Cícero Pompeu de Toledo - Morumbi\"\n",
        "\n",
        "\"Fotos da construção do estádio do Morumbi, colorizadas usando redes neurais e o pacote DeOldify.\"\n",
        "\n",
        "- toc: false\n",
        "- branch: master\n",
        "- badges: true\n",
        "- comments: true\n",
        "- categories: [fastpages, jupyter]\n",
        "\n"
      ]
    },
    {
      "cell_type": "markdown",
      "metadata": {
        "id": "q-wB5NDSZ05J",
        "colab_type": "text"
      },
      "source": [
        "\n",
        "\n",
        "---\n",
        "\n"
      ]
    },
    {
      "cell_type": "markdown",
      "metadata": {
        "id": "ITfDB3KpyD4s",
        "colab_type": "text"
      },
      "source": [
        "### Foto do terreno adquirido para construção do estádio do Morumbi - 1953.\n",
        "\n",
        "Terreno do estádio do Morumbi, sendo preparado para início da construção.\n",
        "\n",
        "\n"
      ]
    },
    {
      "cell_type": "code",
      "metadata": {
        "id": "NUBUwpDashgm",
        "colab_type": "code",
        "colab": {}
      },
      "source": [
        "#hide\n",
        "!wget https://raw.githubusercontent.com/awarischool/br-data-science/master/image-colorizer/deoldify_wrapper.py"
      ],
      "execution_count": null,
      "outputs": []
    },
    {
      "cell_type": "code",
      "metadata": {
        "id": "jOOaOahXuPFG",
        "colab_type": "code",
        "colab": {}
      },
      "source": [
        "#hide\n",
        "from deoldify_wrapper import DeOldify\n"
      ],
      "execution_count": null,
      "outputs": []
    },
    {
      "cell_type": "code",
      "metadata": {
        "id": "g5fuB9xDvPAS",
        "colab_type": "code",
        "colab": {}
      },
      "source": [
        "#hide\n",
        "deo = DeOldify()"
      ],
      "execution_count": null,
      "outputs": []
    },
    {
      "cell_type": "code",
      "metadata": {
        "id": "1VgssfifwsXN",
        "colab_type": "code",
        "colab": {}
      },
      "source": [
        "#hide_input\n",
        "url = 'http://www.saopauloinfoco.com.br/wp-content/uploads/2017/01/Terreno-limpo-e-preparado-para-a-constru%C3%A7%C3%A3o-do-est%C3%A1dio-do-Morumbi.jpeg'\n",
        "deo.colorize(url)"
      ],
      "execution_count": null,
      "outputs": []
    },
    {
      "cell_type": "markdown",
      "metadata": {
        "id": "DnR1ihzj1LKC",
        "colab_type": "text"
      },
      "source": [
        "## Início da construção do primeiro trecho de anel das arquibancadas.\n",
        "\n",
        "Os primeiros anéis deram as caras por volta de 1955 e 1956.\n"
      ]
    },
    {
      "cell_type": "code",
      "metadata": {
        "id": "xRc4Mbrh3uPd",
        "colab_type": "code",
        "colab": {}
      },
      "source": [
        "#hide_input\n",
        "url = 'https://1.bp.blogspot.com/-6BKXdbI-PPs/Wc7JO2402JI/AAAAAAAC8KE/DyDeteNO3XgyNFnZsJrb50PJHCLwM0PcgCLcBGAs/s1600/morumbi16_1000.png'\n",
        "deo.colorize(url)"
      ],
      "execution_count": null,
      "outputs": []
    },
    {
      "cell_type": "code",
      "metadata": {
        "id": "JygwOJLl4YF_",
        "colab_type": "code",
        "colab": {}
      },
      "source": [
        "#hide\n",
        "url = ' https://soberanosoficial.files.wordpress.com/2011/04/morumbi011.jpg'\n",
        "deo.colorize(url)"
      ],
      "execution_count": null,
      "outputs": []
    },
    {
      "cell_type": "markdown",
      "metadata": {
        "id": "otvSCk5YKl75",
        "colab_type": "text"
      },
      "source": [
        "## Estádio já aberto para recebimento de jogos\n",
        "\n",
        "Ainda que parcialmente construída, já tinha estrutura mínima para recebimento de jogos. Teve sua partida inaugural em 01 de Outubro de 1960. Partida entre SPFC x Sporting - POR - no qual os mandantes fizeram 1x0.\n"
      ]
    },
    {
      "cell_type": "code",
      "metadata": {
        "id": "uRc-4V4cPflc",
        "colab_type": "code",
        "colab": {}
      },
      "source": [
        "#hide_input\n",
        "url = 'https://www.encontramorumbi.com.br/imgs/imagens-morumbi/inauguracao-estadio-morumbi.jpg'\n",
        "deo.colorize(url)"
      ],
      "execution_count": null,
      "outputs": []
    },
    {
      "cell_type": "markdown",
      "metadata": {
        "id": "vJGFIMgrT8fl",
        "colab_type": "text"
      },
      "source": [
        "## Nos anos 70 finalmente o estádio estaria completo e afim de receber uma partida inaugural definitiva.\n",
        "\n",
        "A partida se deu contra o Porto de Portugal, num empate em 1x1\n",
        "\n"
      ]
    },
    {
      "cell_type": "code",
      "metadata": {
        "id": "Os8bw3JdUK_W",
        "colab_type": "code",
        "colab": {}
      },
      "source": [
        "#hide_input\n",
        "url = 'https://3.bp.blogspot.com/-cudGBLE369M/WdFsXDwgrPI/AAAAAAAC8sE/ea_CTcdH8CYhS55fbpiNyyFHmpNSx6PhgCLcBGAs/s1600/morumbi44_500.png'\n",
        "deo.colorize(url)"
      ],
      "execution_count": null,
      "outputs": []
    },
    {
      "cell_type": "code",
      "metadata": {
        "id": "QVi7p2JCU2KY",
        "colab_type": "code",
        "colab": {}
      },
      "source": [
        "#hide_input\n",
        "url = 'https://1.bp.blogspot.com/-oTedKlcxbsQ/WdDv16Y56lI/AAAAAAAC8oE/4qjYTvr8GXkU9A0em7-SN5KTpLzNzYM9QCLcBGAs/s1600/morumbi41_1000.png'\n",
        "deo.colorize(url)"
      ],
      "execution_count": null,
      "outputs": []
    }
  ]
}